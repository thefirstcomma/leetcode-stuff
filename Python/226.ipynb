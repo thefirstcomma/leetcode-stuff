{
 "cells": [
  {
   "cell_type": "markdown",
   "metadata": {},
   "source": [
    "226) Invert Binary Tree\n",
    "=======================\n",
    "Invert a binary tree.\n",
    "\n",
    "**Example:**\n",
    "\n",
    "```\n",
    "Input:\n",
    "     4\n",
    "   /   \\\n",
    "  2     7\n",
    " / \\   / \\\n",
    "1   3 6   9\n",
    "\n",
    "Output:\n",
    "     4\n",
    "   /   \\\n",
    "  7     2\n",
    " / \\   / \\\n",
    "9   6 3   1\n",
    "```\n",
    "\n",
    "\n",
    "\n",
    "**Trivia:**\n",
    "This problem was inspired by this original tweet by Max Howell:\n",
    "```\n",
    "    Google: 90% of our engineers use the software you wrote (Homebrew), but you can’t invert a binary tree on a whiteboard so f*** off.\n",
    "    ```"
   ]
  },
  {
   "cell_type": "code",
   "execution_count": 5,
   "metadata": {},
   "outputs": [],
   "source": [
    "# Definition for a binary tree node.\n",
    "class TreeNode:\n",
    "    def __init__(self, val=0, left=None, right=None):\n",
    "        self.val = val\n",
    "        self.left = left\n",
    "        self.right = right\n",
    "        \n",
    "def print_tree(root: TreeNode):\n",
    "    if root:\n",
    "        print_tree(root.left)\n",
    "        print(root.val)\n",
    "        print_tree(root.right)\n",
    "    \n",
    "class Solution:\n",
    "    def invertTree(self, root: TreeNode) -> TreeNode:\n",
    "        if root:\n",
    "            root.left, root.right = self.invertTree(root.right), self.invertTree(root.left)\n",
    "        return root"
   ]
  },
  {
   "cell_type": "code",
   "execution_count": 6,
   "metadata": {},
   "outputs": [
    {
     "name": "stdout",
     "output_type": "stream",
     "text": [
      "1\n",
      "2\n",
      "3\n",
      "4\n",
      "6\n",
      "7\n",
      "9\n"
     ]
    }
   ],
   "source": [
    "root = TreeNode(4)\n",
    "root.left = TreeNode(2, TreeNode(1), TreeNode(3))\n",
    "root.right = TreeNode(7, TreeNode(6), TreeNode(9))\n",
    "print_tree(root)"
   ]
  },
  {
   "cell_type": "code",
   "execution_count": 7,
   "metadata": {},
   "outputs": [
    {
     "name": "stdout",
     "output_type": "stream",
     "text": [
      "9\n",
      "7\n",
      "6\n",
      "4\n",
      "3\n",
      "2\n",
      "1\n"
     ]
    }
   ],
   "source": [
    "s = Solution()\n",
    "result = s.invertTree(root)\n",
    "print_tree(result)"
   ]
  },
  {
   "cell_type": "code",
   "execution_count": null,
   "metadata": {},
   "outputs": [],
   "source": []
  }
 ],
 "metadata": {
  "kernelspec": {
   "display_name": "Python 3",
   "language": "python",
   "name": "python3"
  },
  "language_info": {
   "codemirror_mode": {
    "name": "ipython",
    "version": 3
   },
   "file_extension": ".py",
   "mimetype": "text/x-python",
   "name": "python",
   "nbconvert_exporter": "python",
   "pygments_lexer": "ipython3",
   "version": "3.7.6"
  }
 },
 "nbformat": 4,
 "nbformat_minor": 4
}

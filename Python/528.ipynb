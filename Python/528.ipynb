{
 "cells": [
  {
   "cell_type": "markdown",
   "metadata": {},
   "source": [
    "528) Random Pick with Weight\n",
    "============================\n",
    "Given an array w of positive integers, where w[i] describes the weight of index i, write a function pickIndex which randomly picks an index in proportion to its weight.\n",
    "\n",
    "**Note:**\n",
    "```\n",
    "    1 <= w.length <= 10000\n",
    "    1 <= w[i] <= 10^5\n",
    "    pickIndex will be called at most 10000 times.\n",
    "```\n",
    "\n",
    "**Example 1:**\n",
    "```\n",
    "Input:\n",
    "\n",
    "w = [1, 3, 4, 6]\n",
    "pickIndex() will have 1/(1+3+4+6):\n",
    "1/14 = 7% chance of picking index 0; \n",
    "3/14 = 21% chance of picking index 1; \n",
    "4/14 = 29% chance of picking index 2; \n",
    "6/14 = 43% chance of picking index 3.\n",
    "```\n",
    "\n",
    "**Example 2:**\n",
    "```\n",
    "Input: \n",
    "\n",
    "[\"Solution\",\"pickIndex\",\"pickIndex\",\"pickIndex\",\"pickIndex\",\"pickIndex\"]\n",
    "[[[1,3]],[],[],[],[],[]]\n",
    "\n",
    "Output: [null,0,1,1,1,0]\n",
    "```\n"
   ]
  },
  {
   "cell_type": "code",
   "execution_count": 55,
   "metadata": {},
   "outputs": [],
   "source": [
    "from typing import List\n",
    "import random\n",
    "\n",
    "class Solution:\n",
    "\n",
    "    arr = []\n",
    "    \n",
    "    def __init__(self, w: List[int]):\n",
    "        sum = 0\n",
    "        for value in w:\n",
    "            sum += value\n",
    "        self.arr.append(w[0] / sum)\n",
    "        \n",
    "        for i in range(1, len(w)-1):\n",
    "            self.arr.append(w[i] / sum + self.arr[i-1])\n",
    "            \n",
    "        self.arr.append(1)\n",
    "        \n",
    "    def pickIndex(self) -> int:\n",
    "        randomly_generated = random.random()\n",
    "        for i in range(1, len(self.arr)):\n",
    "            if randomly_generated < self.arr[i] and randomly_generated > self.arr[i-1]:\n",
    "                return i\n",
    "            \n",
    "        return 0\n",
    "\n",
    "\n",
    "# Your Solution object will be instantiated and called as such:\n",
    "# obj = Solution(w)\n",
    "# param_1 = obj.pickIndex()"
   ]
  },
  {
   "cell_type": "code",
   "execution_count": 56,
   "metadata": {},
   "outputs": [
    {
     "name": "stdout",
     "output_type": "stream",
     "text": [
      "[0.25, 1]\n",
      "1\n",
      "[0.25, 1]\n",
      "1\n",
      "[0.25, 1]\n",
      "1\n",
      "[0.25, 1]\n",
      "1\n",
      "[0.25, 1]\n",
      "1\n",
      "[0.25, 1]\n",
      "0\n"
     ]
    }
   ],
   "source": [
    "s = Solution([1,3])\n",
    "print(s.pickIndex())\n",
    "print(s.pickIndex())\n",
    "print(s.pickIndex())\n",
    "print(s.pickIndex())\n",
    "print(s.pickIndex())\n",
    "print(s.pickIndex())"
   ]
  },
  {
   "cell_type": "code",
   "execution_count": null,
   "metadata": {},
   "outputs": [],
   "source": []
  },
  {
   "cell_type": "code",
   "execution_count": null,
   "metadata": {},
   "outputs": [],
   "source": []
  }
 ],
 "metadata": {
  "kernelspec": {
   "display_name": "Python 3",
   "language": "python",
   "name": "python3"
  },
  "language_info": {
   "codemirror_mode": {
    "name": "ipython",
    "version": 3
   },
   "file_extension": ".py",
   "mimetype": "text/x-python",
   "name": "python",
   "nbconvert_exporter": "python",
   "pygments_lexer": "ipython3",
   "version": "3.7.4"
  }
 },
 "nbformat": 4,
 "nbformat_minor": 4
}

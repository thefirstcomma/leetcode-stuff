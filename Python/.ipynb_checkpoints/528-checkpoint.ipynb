{
 "cells": [
  {
   "cell_type": "markdown",
   "metadata": {},
   "source": [
    "528) Random Pick with Weight\n",
    "============================\n",
    "Given an array w of positive integers, where w[i] describes the weight of index i, write a function pickIndex which randomly picks an index in proportion to its weight.\n",
    "\n",
    "**Note:**\n",
    "```\n",
    "    1 <= w.length <= 10000\n",
    "    1 <= w[i] <= 10^5\n",
    "    pickIndex will be called at most 10000 times.\n",
    "```\n",
    "\n",
    "**Example 1:**\n",
    "```\n",
    "Input:\n",
    "\n",
    "w = [1, 3, 4, 6]\n",
    "pickIndex() will have 1/(1+3+4+6):\n",
    "1/14 = 7% chance of picking index 0; \n",
    "3/14 = 21% chance of picking index 1; \n",
    "4/14 = 29% chance of picking index 2; \n",
    "6/14 = 43% chance of picking index 3.\n",
    "```\n",
    "\n",
    "**Example 2:**\n",
    "```\n",
    "Input: \n",
    "\n",
    "[\"Solution\",\"pickIndex\",\"pickIndex\",\"pickIndex\",\"pickIndex\",\"pickIndex\"]\n",
    "[[[1,3]],[],[],[],[],[]]\n",
    "\n",
    "Output: [null,0,1,1,1,0]\n",
    "```\n"
   ]
  },
  {
   "cell_type": "code",
   "execution_count": 3,
   "metadata": {},
   "outputs": [
    {
     "ename": "IndentationError",
     "evalue": "expected an indented block (<ipython-input-3-9e562402f8c6>, line 7)",
     "output_type": "error",
     "traceback": [
      "\u001b[1;36m  File \u001b[1;32m\"<ipython-input-3-9e562402f8c6>\"\u001b[1;36m, line \u001b[1;32m7\u001b[0m\n\u001b[1;33m    def pickIndex(self) -> int:\u001b[0m\n\u001b[1;37m      ^\u001b[0m\n\u001b[1;31mIndentationError\u001b[0m\u001b[1;31m:\u001b[0m expected an indented block\n"
     ]
    }
   ],
   "source": [
    "from typing import List\n",
    "\n",
    "class Solution:\n",
    "\n",
    "    def __init__(self, w: List[int]):\n",
    "        \n",
    "        \n",
    "    def pickIndex(self) -> int:\n",
    "        return 1\n",
    "\n",
    "\n",
    "# Your Solution object will be instantiated and called as such:\n",
    "# obj = Solution(w)\n",
    "# param_1 = obj.pickIndex()"
   ]
  },
  {
   "cell_type": "code",
   "execution_count": null,
   "metadata": {},
   "outputs": [],
   "source": []
  }
 ],
 "metadata": {
  "kernelspec": {
   "display_name": "Python 3",
   "language": "python",
   "name": "python3"
  },
  "language_info": {
   "codemirror_mode": {
    "name": "ipython",
    "version": 3
   },
   "file_extension": ".py",
   "mimetype": "text/x-python",
   "name": "python",
   "nbconvert_exporter": "python",
   "pygments_lexer": "ipython3",
   "version": "3.7.6"
  }
 },
 "nbformat": 4,
 "nbformat_minor": 4
}

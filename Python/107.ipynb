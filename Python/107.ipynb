{
 "cells": [
  {
   "cell_type": "code",
   "execution_count": 21,
   "metadata": {},
   "outputs": [],
   "source": [
    "# Definition for a binary tree node.\n",
    "class TreeNode:\n",
    "    def __init__(self, val=0, left=None, right=None):\n",
    "        self.val = val\n",
    "        self.left = left\n",
    "        self.right = right\n",
    "        \n",
    "class Solution:\n",
    "    def levelOrderBottom(self, root):\n",
    "        res, queue = [], [root]\n",
    "        while queue:\n",
    "            res.append([node.val for node in queue if node])\n",
    "            queue = [child for node in queue if node for child in (node.left, node.right)]\n",
    "        return res[-2::-1]\n",
    "    \n",
    "    def levelOrder(self, root):\n",
    "        ans, level = [], [root]\n",
    "        while root and level:\n",
    "            ans.append([node.val for node in level])            \n",
    "            level = [kid for n in level for kid in (n.left, n.right) if kid]\n",
    "        return ans"
   ]
  },
  {
   "cell_type": "code",
   "execution_count": 22,
   "metadata": {},
   "outputs": [],
   "source": [
    "s = Solution()\n",
    "t = TreeNode(1)\n",
    "t.left = TreeNode(2)\n",
    "t.right = TreeNode(3, None, TreeNode(10))\n",
    "t.left.left = TreeNode(4)\n",
    "t.left.right = TreeNode(5)\n"
   ]
  },
  {
   "cell_type": "code",
   "execution_count": 23,
   "metadata": {},
   "outputs": [
    {
     "data": {
      "text/plain": [
       "[[4, 5, 10], [2, 3], [1]]"
      ]
     },
     "execution_count": 23,
     "metadata": {},
     "output_type": "execute_result"
    }
   ],
   "source": [
    "s.levelOrderBottom(t)"
   ]
  },
  {
   "cell_type": "code",
   "execution_count": 25,
   "metadata": {},
   "outputs": [
    {
     "data": {
      "text/plain": [
       "[[1], [2, 3], [4, 5, 10]]"
      ]
     },
     "execution_count": 25,
     "metadata": {},
     "output_type": "execute_result"
    }
   ],
   "source": [
    "s.levelOrder(t)"
   ]
  },
  {
   "cell_type": "code",
   "execution_count": null,
   "metadata": {},
   "outputs": [],
   "source": []
  }
 ],
 "metadata": {
  "kernelspec": {
   "display_name": "Python 3",
   "language": "python",
   "name": "python3"
  },
  "language_info": {
   "codemirror_mode": {
    "name": "ipython",
    "version": 3
   },
   "file_extension": ".py",
   "mimetype": "text/x-python",
   "name": "python",
   "nbconvert_exporter": "python",
   "pygments_lexer": "ipython3",
   "version": "3.7.6"
  }
 },
 "nbformat": 4,
 "nbformat_minor": 4
}
